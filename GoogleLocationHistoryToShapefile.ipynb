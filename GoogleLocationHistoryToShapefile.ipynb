{
 "cells": [
  {
   "cell_type": "code",
   "execution_count": 95,
   "metadata": {},
   "outputs": [],
   "source": [
    "from arcgis import GIS\n",
    "from arcgis import *\n",
    "import arcgis\n",
    "import zipfile\n",
    "import json\n",
    "import os\n",
    "from datetime import datetime\n",
    "from shapely.geometry import Point\n",
    "import pandas as pd\n",
    "import geopandas as gpd"
   ]
  },
  {
   "cell_type": "code",
   "execution_count": 96,
   "metadata": {},
   "outputs": [],
   "source": [
    "#inputs\n",
    "startyear = \"2020\"\n",
    "startmonth = \"2020_JANUARY\"\n",
    "patientid = \"P10\"\n",
    "\n",
    "googlemapslocationhistory = r\"C:\\Users\\david\\OneDrive\\Documents\\CoronaNotebook\\Data\\takeout-20200314T005214Z-001.zip\"\n",
    "\n",
    "confirmedinfecteddate = [\"2020-03-08\",\"2020-03-14\" ]\n",
    "estimatedinfectiondate = [\"2020-03-01\", \"2020-03-07\"]\n",
    "\n",
    "#variables\n",
    "staginglocation = r\"C:\\Users\\david\\OneDrive\\Documents\\CoronaNotebook\\Staging\"\n",
    "patientdatafolder = staginglocation + \"\\\\\" + patientid + r\"\\Takeout\\Location History\\Semantic Location History\" + \"\\\\\" + startyear\n",
    "patientlocationhistory = []\n",
    "\n",
    "#dervied variables\n",
    "patientstagingfolder = staginglocation + \"\\\\\" + patientid\n",
    "\n",
    "confirmedinfecteddate[0],confirmedinfecteddate[1] = datetime.fromisoformat(confirmedinfecteddate[0]),datetime.fromisoformat(confirmedinfecteddate[1])\n",
    "estimatedinfectiondate[0],estimatedinfectiondate[1]  = datetime.fromisoformat(estimatedinfectiondate[0]), datetime.fromisoformat(estimatedinfectiondate[1])"
   ]
  },
  {
   "cell_type": "code",
   "execution_count": 97,
   "metadata": {},
   "outputs": [],
   "source": [
    "def unzipgooglelocationhistory():\n",
    "    with zipfile.ZipFile(googlemapslocationhistory, 'r') as zip_ref:\n",
    "        zip_ref.extractall(patientstagingfolder)\n",
    "        \n",
    "        \n",
    "def getpatientlocationhistory(patientdatafolder):\n",
    "    for filename in os.listdir(patientdatafolder):\n",
    "        f = open(patientdatafolder + \"\\\\\" + filename) \n",
    "        data = json.load(f) \n",
    "        for d in data[\"timelineObjects\"]:\n",
    "            if ('placeVisit' in d.keys()):\n",
    "                date = datetime.fromtimestamp(int(d['placeVisit']['duration']['startTimestampMs'])/1000).strftime('%Y-%m-%d')\n",
    "                date = datetime.fromisoformat(date)\n",
    "\n",
    "                if (estimatedinfectiondate[1] >= date >= estimatedinfectiondate[0]):\n",
    "                    infectedstatus = \"potential_positive\"\n",
    "                    \n",
    "                elif (confirmedinfecteddate[1] >= date >= confirmedinfecteddate[0]):\n",
    "                    infectedstatus = \"positive\"\n",
    "                else:\n",
    "                    infectedstatus = \"negative\"\n",
    "\n",
    "                for place in d['placeVisit']:\n",
    "                    row = {\n",
    "                        \"patientid\": patientid,\n",
    "                        \"lat\": d['placeVisit']['location']['latitudeE7']/ 1e7,\n",
    "                        \"lon\": d['placeVisit']['location']['longitudeE7']/ 1e7,\n",
    "                        \"timestart\": datetime.fromtimestamp(int(d['placeVisit']['duration']['startTimestampMs'])/1000).strftime('%Y-%m-%d %H:%M:%S'),\n",
    "                        \"timeend\": datetime.fromtimestamp(int(d['placeVisit']['duration']['endTimestampMs'])/1000).strftime('%Y-%m-%d %H:%M:%S'),\n",
    "                        \"infected\": infectedstatus\n",
    "                    }\n",
    "                    patientlocationhistory.append(row)\n",
    "\n",
    "            if ('activitySegment' in d.keys()):\n",
    "                \n",
    "                date = datetime.fromtimestamp(int(d['activitySegment']['duration']['startTimestampMs'])/1000).strftime('%Y-%m-%d')\n",
    "                date = datetime.fromisoformat(date)\n",
    "                \n",
    "                if (estimatedinfectiondate[1] >= date >= estimatedinfectiondate[0]):\n",
    "                    infectedstatus = \"potential_positive\"\n",
    "                    \n",
    "                elif (confirmedinfecteddate[1] >= date >= confirmedinfecteddate[0]):\n",
    "                    infectedstatus = \"positive\"\n",
    "                else:\n",
    "                    infectedstatus = \"negative\"\n",
    "                    \n",
    "                for place in d['activitySegment']:\n",
    "                    if d['activitySegment'][place] == 'WALKING':\n",
    "                        try:\n",
    "                            for waypoint in d['activitySegment']['waypointPath']['waypoints']:\n",
    "                                row = {\n",
    "                                    \"patientid\": patientid,\n",
    "                                    \"lat\": waypoint['latitudeE7']/ 1e7,\n",
    "                                    \"lon\": waypoint['longitudeE7']/ 1e7,\n",
    "                                    \"timestart\": datetime.fromtimestamp(int(d['activitySegment']['duration']['startTimestampMs'])/1000).strftime('%Y-%m-%d %H:%M:%S'),\n",
    "                                    \"timeend\": datetime.fromtimestamp(int(d['activitySegment']['duration']['endTimestampMs'])/1000).strftime('%Y-%m-%d %H:%M:%S'),\n",
    "                                    \"infected\": infectedstatus\n",
    "                                }\n",
    "                                patientlocationhistory.append(row)\n",
    "\n",
    "                        except:\n",
    "                            pass\n",
    "\n",
    "\n",
    "def patienthistoryjson2shapefile(patientlocationhistory):\n",
    "    df = pd.DataFrame(patientlocationhistory)\n",
    "\n",
    "    df['geometry'] = df.apply(lambda row: Point(row.lon,row.lat),axis=1)\n",
    "    gdf = gpd.GeoDataFrame(df, geometry = 'geometry')\n",
    "    gdf.crs = \"EPSG:4326\"\n",
    "\n",
    "    gdf.to_file(driver = 'ESRI Shapefile', filename= \"patienthistory.shp\")\n",
    "    gdf.to_file(patientstagingfolder + \"\\\\\" + patientid + \"_patienthistory2.shp\")\n",
    "    \n",
    "    #run and append to your big data or something\n",
    "    \n",
    "    return gdf"
   ]
  },
  {
   "cell_type": "code",
   "execution_count": 98,
   "metadata": {},
   "outputs": [],
   "source": [
    "unzipgooglelocationhistory()\n",
    "\n",
    "getpatientlocationhistory(patientdatafolder)\n",
    "\n",
    "gdf = patienthistoryjson2shapefile(patientlocationhistory)"
   ]
  },
  {
   "cell_type": "code",
   "execution_count": 99,
   "metadata": {},
   "outputs": [
    {
     "name": "stderr",
     "output_type": "stream",
     "text": [
      "Error acquiring spatial reference from GeoDataFrame Spatial reference will not be set.b'no arguments in initialization list'\n",
      "extent must be set to either a 2d list, spatially enabled data frame full_extent, or dict. Values specified must include xmin, ymin, xmax, ymax. Please see the API doc for more information\n"
     ]
    },
    {
     "data": {
      "application/vnd.jupyter.widget-view+json": {
       "model_id": "1d349308ec9342c69e84a47f68932c5c",
       "version_major": 2,
       "version_minor": 0
      },
      "text/plain": [
       "MapView(layout=Layout(height='400px', width='100%'))"
      ]
     },
     "metadata": {},
     "output_type": "display_data"
    },
    {
     "data": {
      "text/html": [
       "<div class=\"map-static-img-preview-7d133c2d-8649-4747-b3a8-511f7083aa62\"><img src=\"\"></img></div>"
      ],
      "text/plain": [
       "<IPython.core.display.HTML object>"
      ]
     },
     "metadata": {},
     "output_type": "display_data"
    }
   ],
   "source": [
    "#not needed, but cool to see without GIS software.\n",
    "\n",
    "patienthistory = arcgis.features.GeoAccessor.from_geodataframe(gdf, inplace=True, column_name='geometry')\n",
    "\n",
    "m = gis.map()\n",
    "m.add_layer(patienthistory)\n",
    "m.extent = patienthistory\n",
    "\n",
    "m"
   ]
  },
  {
   "cell_type": "code",
   "execution_count": null,
   "metadata": {},
   "outputs": [],
   "source": []
  },
  {
   "cell_type": "code",
   "execution_count": null,
   "metadata": {},
   "outputs": [],
   "source": []
  }
 ],
 "metadata": {
  "kernelspec": {
   "display_name": "Python 3",
   "language": "python",
   "name": "python3"
  },
  "language_info": {
   "codemirror_mode": {
    "name": "ipython",
    "version": 3
   },
   "file_extension": ".py",
   "mimetype": "text/x-python",
   "name": "python",
   "nbconvert_exporter": "python",
   "pygments_lexer": "ipython3",
   "version": "3.7.6"
  }
 },
 "nbformat": 4,
 "nbformat_minor": 4
}
